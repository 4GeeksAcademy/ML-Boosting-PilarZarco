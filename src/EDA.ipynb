{
    "cells": [
        {
            "cell_type": "markdown",
            "metadata": {},
            "source": [
                "## EDA"
            ]
        },
        {
            "cell_type": "markdown",
            "metadata": {},
            "source": [
                "#### Description of dataset variables\n",
                "- Pregnancies. Number of pregnancies of the patient (numeric)\n",
                "- Glucose. Plasma glucose concentration 2 hours after an oral glucose tolerance test (numeric)\n",
                "- BloodPressure. Diastolic blood pressure (measured in mm Hg) (numeric)\n",
                "- SkinThickness. Triceps skinfold thickness (measured in mm) (numeric)\n",
                "- Insulin. 2-hour serum insulin (measured in mu U/ml) (numeric)\n",
                "- BMI. Body mass index (numeric)\n",
                "- DiabetesPedigreeFunction. Diabetes Pedigree Function (numeric)\n",
                "- Age. Age of patient (numeric)\n",
                "- Outcome. Class variable (0 or 1), being 0 negative in diabetes and 1, positive (numeric)"
            ]
        },
        {
            "cell_type": "markdown",
            "metadata": {},
            "source": [
                "The target is to predict whether or not the patient has diabetes."
            ]
        },
        {
            "cell_type": "code",
            "execution_count": null,
            "metadata": {},
            "outputs": [],
            "source": [
                "import pandas as pd\n",
                "import matplotlib.pyplot as plt\n",
                "import seaborn as sns"
            ]
        },
        {
            "cell_type": "markdown",
            "metadata": {},
            "source": [
                "### 1) Scanning and surface data cleaning"
            ]
        },
        {
            "cell_type": "code",
            "execution_count": null,
            "metadata": {},
            "outputs": [],
            "source": [
                "df = pd.read_csv(\"https://raw.githubusercontent.com/4GeeksAcademy/decision-tree-project-tutorial/main/diabetes.csv\")\n",
                "df.head()"
            ]
        },
        {
            "cell_type": "code",
            "execution_count": null,
            "metadata": {},
            "outputs": [],
            "source": [
                "df.shape"
            ]
        },
        {
            "cell_type": "markdown",
            "metadata": {},
            "source": [
                "Consists of 9 variables and 768 entries"
            ]
        },
        {
            "cell_type": "code",
            "execution_count": null,
            "metadata": {},
            "outputs": [],
            "source": [
                "df.info()"
            ]
        },
        {
            "cell_type": "markdown",
            "metadata": {},
            "source": [
                "All data are numerical, integer and decimal"
            ]
        },
        {
            "cell_type": "code",
            "execution_count": null,
            "metadata": {},
            "outputs": [],
            "source": [
                "df.isnull().sum()"
            ]
        },
        {
            "cell_type": "markdown",
            "metadata": {},
            "source": [
                "There is no null data in the dataset."
            ]
        },
        {
            "cell_type": "code",
            "execution_count": null,
            "metadata": {},
            "outputs": [],
            "source": [
                "df.duplicated().sum()"
            ]
        },
        {
            "cell_type": "markdown",
            "metadata": {},
            "source": [
                "No duplicate entries"
            ]
        },
        {
            "cell_type": "markdown",
            "metadata": {},
            "source": [
                "### 2) Univariate analysis"
            ]
        },
        {
            "cell_type": "code",
            "execution_count": null,
            "metadata": {},
            "outputs": [],
            "source": [
                "# Obtain the numerical columns\n",
                "column_num = df.select_dtypes(include=['int64', 'float64']).columns\n",
                "\n",
                "# Calculate the number of rows and columns required for the subcharts\n",
                "num_rows = (len(column_num) + 2) // 3\n",
                "num_columns = 3\n",
                "\n",
                "# Create subcharts\n",
                "fig, axis = plt.subplots(num_rows, num_columns, figsize=(15, 3 * num_rows))\n",
                "\n",
                "# Generate histograms for each numerical variable\n",
                "for i, columna in enumerate(column_num):\n",
                "    sns.histplot(ax=axis[i // num_columns, i % num_columns], data=df, x=columna, bins=15, kde=True).set(ylabel=None)\n",
                "\n",
                "plt.tight_layout()\n",
                "plt.show()\n",
                "\n",
                "plt.tight_layout()\n",
                "plt.show()\n",
                "\n"
            ]
        },
        {
            "cell_type": "code",
            "execution_count": null,
            "metadata": {},
            "outputs": [],
            "source": [
                "\n",
                "# Selects only columns of type int or float\n",
                "column_num = df.select_dtypes(include=['int64', 'float64']).columns\n",
                "\n",
                "# Dictionary for storing the number of zero values per column\n",
                "number_zeros = {}\n",
                "\n",
                "# Iterates over all columns of the numeric DataFrame\n",
                "for column in column_num:\n",
                "   # Counts the number of zero values in the column\n",
                "    sum_zeros = (df[column] == 0).sum()\n",
                "    \n",
                "    # If there is at least one zero value, add the column and quantity to the dictionary.\n",
                "    if sum_zeros > 0:\n",
                "        number_zeros[column] = sum_zeros\n",
                "\n",
                "for column, sum_zeros in number_zeros.items():\n",
                "    print(f\"{column}: {sum_zeros}\")\n"
            ]
        },
        {
            "cell_type": "markdown",
            "metadata": {},
            "source": [
                "We have zero values in some variables, data that were probably obtained erroneously and that in this case we are not going to eliminate as it would negatively alter our final model. Taking into account that it is a small dataset and that the values we could eliminate are too many, compared to the amount of entries in it.\n",
                "We highlight the amount of zero values in SkinThickness: 227 and Insulin: 374, taking into account that a person cannot have a zero insulin value or skin thickness.\n",
                "We also have the body mass index with 11 entries with zero value and the blood pressure with 35.\n"
            ]
        },
        {
            "cell_type": "markdown",
            "metadata": {},
            "source": [
                "### 3) Multivariate analysis"
            ]
        },
        {
            "cell_type": "code",
            "execution_count": null,
            "metadata": {},
            "outputs": [],
            "source": [
                "# Analysis N-N\n",
                "fig, axis = plt.subplots(4, 3, figsize = (15, 10))\n",
                "\n",
                "\n",
                "sns.regplot(ax = axis[0,0], data = df, x = \"Glucose\", y = \"Outcome\")\n",
                "sns.heatmap(df[[\"Outcome\", \"Glucose\"]].corr(), annot = True, fmt = \".2f\", ax = axis[1,0], cbar = False)\n",
                "\n",
                "sns.regplot(ax = axis[0,1], data = df, x = \"BMI\", y = \"Outcome\")\n",
                "sns.heatmap(df[[\"Outcome\", \"BMI\"]].corr(), annot = True, fmt = \".2f\", ax = axis[1, 1], cbar = False)\n",
                "\n",
                "sns.regplot(ax = axis[0,2], data = df, x = \"BloodPressure\", y = \"Outcome\")\n",
                "sns.heatmap(df[[\"Outcome\", \"BloodPressure\"]].corr(), annot = True, fmt = \".2f\", ax = axis[1, 2], cbar = False)\n",
                "\n",
                "sns.regplot(ax = axis[2, 0], data = df, x = \"Pregnancies\", y = \"Age\")\n",
                "sns.heatmap(df[[\"Age\", \"Pregnancies\"]].corr(), annot = True, fmt = \".2f\", ax = axis[3, 0], cbar = False)\n",
                "\n",
                "sns.regplot(ax = axis[2, 1], data = df, x = \"DiabetesPedigreeFunction\", y = \"Outcome\")\n",
                "sns.heatmap(df[[\"Outcome\", \"DiabetesPedigreeFunction\"]].corr(), annot = True, fmt = \".2f\", ax = axis[3, 1], cbar = False)\n",
                "\n",
                "sns.regplot(ax = axis[2, 2], data = df, x = \"DiabetesPedigreeFunction\", y = \"Outcome\")\n",
                "sns.heatmap(df[[\"DiabetesPedigreeFunction\", \"Outcome\"]].corr(), annot = True, fmt = \".2f\", ax = axis[3, 2], cbar = False)\n",
                "\n",
                "plt.tight_layout()\n",
                "plt.show()"
            ]
        },
        {
            "cell_type": "markdown",
            "metadata": {},
            "source": []
        },
        {
            "cell_type": "code",
            "execution_count": null,
            "metadata": {},
            "outputs": [],
            "source": [
                "# Correlation map\n",
                "\n",
                "column_num = df.select_dtypes(include=['int64', 'float64']).columns\n",
                "\n",
                "plt.figure(figsize=(10, 8))\n",
                "sns.heatmap((df[column_num].corr()), annot=True, cmap='PuBu', fmt=\".2f\")\n",
                "plt.show()\n",
                "\n"
            ]
        },
        {
            "cell_type": "markdown",
            "metadata": {},
            "source": [
                "We found moderate positive relationships:\n",
                "* SkinThickness and Insulin\n",
                "* SkinThickness and BMI\n",
                "* Glucose and insulin\n",
                "* Age and Pregnancies\n",
                "\n",
                "No moderate or strong negative relationships, only weak and rare."
            ]
        },
        {
            "cell_type": "markdown",
            "metadata": {},
            "source": [
                "### 3) Outlier analysis"
            ]
        },
        {
            "cell_type": "code",
            "execution_count": null,
            "metadata": {},
            "outputs": [],
            "source": [
                "df.describe()"
            ]
        },
        {
            "cell_type": "code",
            "execution_count": null,
            "metadata": {},
            "outputs": [],
            "source": [
                "# Display outliers\n",
                "fig, axis = plt.subplots(2, 3, figsize = (14, 8))\n",
                "\n",
                "sns.boxplot(ax = axis[0, 0], data = df, x = \"Glucose\")\n",
                "sns.boxplot(ax = axis[0, 1], data = df, x = \"BloodPressure\")\n",
                "sns.boxplot(ax = axis[0, 2], data = df, x = \"BMI\")\n",
                "sns.boxplot(ax = axis[1, 0], data = df, x = \"Insulin\")\n",
                "sns.boxplot(ax = axis[1, 1], data = df, x = \"SkinThickness\")\n",
                "\n",
                "\n",
                "plt.tight_layout()\n",
                "plt.show()\n"
            ]
        },
        {
            "cell_type": "markdown",
            "metadata": {},
            "source": [
                "We are going to run the decision tree model, we do not modify or remove outliers, as this could have an impact on the performance of the model."
            ]
        },
        {
            "cell_type": "markdown",
            "metadata": {},
            "source": [
                "### 4) Split into Train and Test"
            ]
        },
        {
            "cell_type": "code",
            "execution_count": null,
            "metadata": {},
            "outputs": [],
            "source": [
                "from sklearn.datasets import load_iris\n",
                "from sklearn.model_selection import train_test_split\n",
                "\n",
                "X, y = load_iris(return_X_y = True, as_frame = True)\n",
                "\n",
                "X_train, X_test, y_train, y_test = train_test_split(X, y, test_size = 0.2, random_state = 71)\n",
                "\n",
                "X_train.head()"
            ]
        },
        {
            "cell_type": "markdown",
            "metadata": {},
            "source": [
                "In the decision tree, no scaling of variables is done. Predictor variables do not need to be normalised, as decision trees are not affected by the scale of the data."
            ]
        },
        {
            "cell_type": "code",
            "execution_count": null,
            "metadata": {},
            "outputs": [],
            "source": [
                "# Save \n",
                "\n",
                "X_train.to_csv(\"/workspaces/ML-Decision-Tree-PilarZarco/data/processed/X_train.csv\", index=False) # PREDICTORS OF TRAIN\n",
                "with open (\"/workspaces/ML-Decision-Tree-PilarZarco/data/processed/y_train.txt\", \"w\") as f: # TRAIN TARGET\n",
                "    f.write(y_train.to_string(index=False))\n",
                "\n",
                "X_test.to_csv(\"/workspaces/ML-Decision-Tree-PilarZarco/data/processed/X_test.csv\", index=False)# # PREDICTORS OF TEST\n",
                "with open (\"/workspaces/ML-Decision-Tree-PilarZarco/data/processed/y_test.txt\", \"w\") as f:# TEST target\n",
                "    f.write(y_test.to_string(index=False))"
            ]
        }
    ],
    "metadata": {
        "kernelspec": {
            "display_name": "Python 3.8.13 64-bit ('3.8.13')",
            "language": "python",
            "name": "python3"
        },
        "language_info": {
            "codemirror_mode": {
                "name": "ipython",
                "version": 3
            },
            "file_extension": ".py",
            "mimetype": "text/x-python",
            "name": "python",
            "nbconvert_exporter": "python",
            "pygments_lexer": "ipython3",
            "version": "3.11.4"
        },
        "orig_nbformat": 4,
        "vscode": {
            "interpreter": {
                "hash": "110cc1dee26208153f2972f08a2ad52b6a56238dc66d48e87fb757ef2996db56"
            }
        }
    },
    "nbformat": 4,
    "nbformat_minor": 2
}
