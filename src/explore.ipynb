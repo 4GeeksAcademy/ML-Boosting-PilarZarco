{
    "cells": [
        {
            "cell_type": "markdown",
            "metadata": {},
            "source": [
                "## EDA"
            ]
        },
        {
            "cell_type": "markdown",
            "metadata": {},
            "source": [
                "- Pregnancies. Number of pregnancies of the patient (numeric)\n",
                "- Glucose. Plasma glucose concentration 2 hours after an oral glucose tolerance test (numeric)\n",
                "- BloodPressure. Diastolic blood pressure (measured in mm Hg) (numeric)\n",
                "- SkinThickness. Triceps skinfold thickness (measured in mm) (numeric)\n",
                "- Insulin. 2-hour serum insulin (measured in mu U/ml) (numeric)\n",
                "- BMI. Body mass index (numeric)\n",
                "- DiabetesPedigreeFunction. Diabetes Pedigree Function (numeric)\n",
                "- Age. Age of patient (numeric)\n",
                "- Outcome. Class variable (0 or 1), being 0 negative in diabetes and 1, positive (numeric)"
            ]
        },
        {
            "cell_type": "code",
            "execution_count": null,
            "metadata": {},
            "outputs": [],
            "source": []
        }
    ],
    "metadata": {
        "kernelspec": {
            "display_name": "Python 3.8.13 64-bit ('3.8.13')",
            "language": "python",
            "name": "python3"
        },
        "language_info": {
            "codemirror_mode": {
                "name": "ipython",
                "version": 3
            },
            "file_extension": ".py",
            "mimetype": "text/x-python",
            "name": "python",
            "nbconvert_exporter": "python",
            "pygments_lexer": "ipython3",
            "version": "3.8.13"
        },
        "orig_nbformat": 4,
        "vscode": {
            "interpreter": {
                "hash": "110cc1dee26208153f2972f08a2ad52b6a56238dc66d48e87fb757ef2996db56"
            }
        }
    },
    "nbformat": 4,
    "nbformat_minor": 2
}
